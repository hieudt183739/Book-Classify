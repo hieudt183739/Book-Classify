{
 "cells": [
  {
   "cell_type": "markdown",
   "id": "cdc90220",
   "metadata": {},
   "source": [
    "## Model selection\n",
    "### Import thư viện"
   ]
  },
  {
   "cell_type": "code",
   "execution_count": 1,
   "id": "95884bd2",
   "metadata": {},
   "outputs": [],
   "source": [
    "import numpy as np\n",
    "from statistics import mean, stdev\n",
    "from sklearn.model_selection import StratifiedKFold\n",
    "import time\n",
    "import os\n",
    "import pickle\n",
    "import random\n",
    "import matplotlib.pyplot as plt\n",
    "import pandas as pd\n",
    "\n",
    "%matplotlib inline"
   ]
  },
  {
   "cell_type": "markdown",
   "id": "fceb99f1",
   "metadata": {},
   "source": [
    "### Đánh giá hiệu quả mô hình\n",
    "#### Chia tập train, test\n"
   ]
  },
  {
   "cell_type": "code",
   "execution_count": 2,
   "id": "2ac372a1",
   "metadata": {},
   "outputs": [
    {
     "name": "stdout",
     "output_type": "stream",
     "text": [
      "Kích thước tập dữ liệu:  7999\n"
     ]
    }
   ],
   "source": [
    "# load file data đã tiền xử lý\n",
    "data = pd.read_csv('./preprocessed_data/preprocessed_data.csv')\n",
    "X = data['inputs'].values\n",
    "y = data['outputs'].values\n",
    "print('Kích thước tập dữ liệu: ', X.shape[0])"
   ]
  },
  {
   "cell_type": "code",
   "execution_count": 3,
   "id": "884db8e2",
   "metadata": {},
   "outputs": [
    {
     "name": "stdout",
     "output_type": "stream",
     "text": [
      "----------------------------\n",
      "Label:  y-hoc\n",
      "Data:  tủ_sách bảo_vệ sức_khỏe gia_đình hô_hấp tủ_sách bảo_vệ sức_khỏe gia_đình hô_hấp tủ_sách bảo_vệ sức_khỏe gia_đình biên_soạn nguồn tư_liệu giá_trị trình_bày hầu_hết kiến_thức cơ_bản cần_thiết thực_hành y_khoa ngoài hiểu_biết cơ_bản nội_dung sâu lĩnh_vực chẩn_đoán điều_trị biện_pháp phòng_bệnh vì_thế tuy nhắm đối_tượng độc_giả chuyên_môn ngành y_tế cung_cấp thông_tin tham_khảo cần_thiết trường_hợp đặc_biệt đối_với độc_giả phổ_thông kiến_thức cung_cấp vô_cùng bổ_ích bảo_vệ sức_khỏe bản_thân gia_đình tủ_sách bảo_vệ sức_khỏe gia_đình hô_hấp\n",
      "----------------------------\n",
      "Label:  y-hoc\n",
      "Data:  văn_hoá ứng_xử sức_khoẻ tim_mạch nhồi_máu cơ_tim tai_biến mạch_máu não tai_họa đột_ngột bất_ngờ nếu cảnh_giác cao hiểu_biết sâu hiểu_biết sức_mạnh van_tim hậu thấp cao huyết_áp xơ_vữa động_mạch tên sát_nhân ngăn_chặn nhờ hiểu đúng đừng coi_thường tim_mạch nói_chung chúng tự ắt_hẳn chịu_thua chúng hiện_nay công_tác vệ_sinh phòng_dịch điều_trị dự_phòng trình_độ kỹ_thuật y hiện_đại bước nâng cao như_thế chưa đủ nếu_như chưa ý_thức tự điều_chỉnh cả lối hợp_lý quyết_tâm thực_hiện nếp_sống tinh_thần làm_chủ vận_mệnh cứ tự phí_phạm sức_khỏe bản_thân chế_độ dinh_dưỡng làm_việc khoa_học giải_trí nghỉ_ngơi thiếu cân_đối giữa lao_động trí_óc vận_động thể_lực tình_trạng kéo_dài ảnh_hưởng xấu hệ tim_mạch vậy phòng_ngừa tim_mạch vấn_đề thuộc xã_hội mà_còn vấn_đề nếp cá_nhân dù bị chưa bị tim_mạch cần hiểu tim_mạch cần rõ làm_việc nghỉ_ngơi sinh_hoạt ăn_uống rèn_luyện cơ_thể thế_nào chống chúng một_cách tự_giác tích_cực bền_bỉ nội_dung tim_mạch thường thủ_phạm giảm chất_lượng gây già_nua tuổi hoặc tử_vong sớm phòng_ngừa tim_mạch thêm sức_sống tuổi_thọ quan_trọng thêm tuổi_thọ nhờ vậy nếu lâu giữ sinh_lực sảng_khoái minh_mẫn già_nua mạnh_khỏe vì mơ_ước đẹp_đẽ sao xứng_đáng lao_động sáng_tạo đóng_góp gia_đình xã_hội văn_hoá ứng_xử sức_khoẻ tim_mạch\n",
      "----------------------------\n",
      "Label:  sach-ton-giao\n",
      "Data:  trở_thành đức phật bi trở_thành đức phật bi hướng_dẫn kỳ ẩn_cư trọn_vẹn bởi nhà tiên_phong phật_giáo phương_tây lạt ma yeshe hướng_dẫn môn_sinh tu_tập mật tông avalokitesvara bồ_tát từ_bi dựa bản_văn đức đạt lai lạt ma 14 19 tuổi lạt ma yeshe đặc_biệt nhấn_mạnh mahamudra đại thú ân tính tự tâm sáng_tỏ kỹ_thuật bí_truyền rõ bản_chất chúng trạng_thái tâm_lý phát_triển cao bi cần ngày_nay từ_bi duy_nhất chữa lành vấn_đề đối_mặt lạt ma yeshe khả_năng chuyển_tải tư_tưởng phật_giáo tây tạng không_chỉ thông_qua ngôn_ngữ bằng hiện_diện biểu_thị tuyệt_vời khả_năng độc_nhất vô nhị truyền_đạt thông_điệp đích_thực hợp_nhất từ_bi trí huệ mahamudra vĩ_đại rinpoche tác già chết gần_gũi thật rõ_ràng đầy trắc_ẩn lắng nghe tiếng nói khó quên nhũng vị thầy lớn thời_đại sogyal rinpoche tử thư tây tạng trở_thành đức phật bi\n",
      "----------------------------\n",
      "Label:  khoa-hoc-tu-nhien-xa-hoi\n",
      "Data:  sổ_tay từ_ngữ tái_bản 2017 nói_chung không_chỉ nhu_cầu kiếm mà_còn nhu_cầu giao_tiếp đôi_khi nhu_cầu giao_tiếp quan_trọng cả nhu_cầu kiếm thử hình_dung sau ngày làm_việc cật_lực trở_về nhà vợ_chồng ai nói ai câu nào tiền_bạc họ mang ý_nghĩa gì đấy chưa kể đến_nỗi bất_hạnh con_cái vậy cơ_quan đám_cưới hội_hè thèm giao_tiếp đồng_loại thế_nào nói vì lí_do nào bị tước_bỏ quyền giao_tiếp bản_án tử_hình khủng_khiếp tinh_thần trường_hợp ấy phát_điên lên lạ nói rằng hàng ngày quay_vòng từ_ngữ tần_số cao thế_nào vòng tất_yếu ý_nghĩa từ_ngữ luôn_luôn biến_động đáp_ứng nhu_cầu giao_tiếp thông_tin khoa_học trao_đổi tư_tưởng tình_cảm tạo_lập quan_hệ xã_hội nói một_cách chữ_nghĩa xã_hội phát_triển nhận_thức phát_triển ngôn_ngữ phát_triển đáp_ứng nhu_cầu giao_tiếp phát_triển chung ngôn_ngữ vựng bao_giờ bộ_phận phát_triển mạnh_mẽ vì nhận_thức phát_triển ngày_càng phát_hiện thuộc_tính sự_vật hiện_tượng vì_vậy từ_ngữ tương_ứng biểu_thị khái_niệm thuộc_tính sự_vật hiện_tượng một_cách đầy_đủ đối_với xung_quanh chưa chứ không_thể nghĩa_là càng_ngày_càng phát_hiện sự_vật hiện_tượng cần đặt tên nó bằng từ_ngữ tương_ứng mục_lục lời sáchphần 1 nghĩa từ_ngữ gìphần 2 phân_biệt phụ_âm_đầu dễ nhầm lẫnphần 3 vài nét phát_triển từ_ngữ dùng ngữphần 4 vài nét hán việtphần 5 nghệ_thuật ngôn_từ nói_chung không_chỉ nhu_cầu kiếm mà_còn nhu_cầu giao_tiếp đôi_khi nhu_cầu giao_tiếp quan_trọng cả nhu_cầu kiếm thử hình_dung sau ngày làm_việc cật_lực trở_về nhà vợ_chồng ai nói ai câu nào tiền_bạc họ mang ý_nghĩa gì đấy chưa kể đến_nỗi bất_hạnh con_cái vậy cơ_quan đám_cưới hội_hè thèm giao_tiếp đồng_loại thế_nào nói vì lí_do nào bị tước_bỏ quyền giao_tiếp bản_án tử_hình khủng_khiếp tinh_thần trường_hợp ấy phát_điên lên lạ nói rằng hàng ngày quay_vòng từ_ngữ tần_số cao thế_nào vòng tất_yếu ý_nghĩa từ_ngữ luôn_luôn biến_động đáp_ứng nhu_cầu giao_tiếp thông_tin khoa_học trao_đổi tư_tưởng tình_cảm tạo_lập quan_hệ xã_hội nói một_cách chữ_nghĩa xã_hội phát_triển nhận_thức phát_triển ngôn_ngữ phát_triển đáp_ứng nhu_cầu giao_tiếp phát_triển chung ngôn_ngữ vựng bao_giờ bộ_phận phát_triển mạnh_mẽ vì nhận_thức phát_triển ngày_càng phát_hiện thuộc_tính sự_vật hiện_tượng vì_vậy từ_ngữ tương_ứng biểu_thị khái_niệm thuộc_tính sự_vật hiện_tượng một_cách đầy_đủ đối_với xung_quanh chưa chứ không_thể nghĩa_là càng_ngày_càng phát_hiện sự_vật hiện_tượng cần đặt tên nó bằng từ_ngữ tương_ứng mục_lục lời sáchphần 1 nghĩa từ_ngữ gìphần 2 phân_biệt phụ_âm_đầu dễ nhầm lẫnphần 3 vài nét phát_triển từ_ngữ dùng ngữphần 4 vài nét hán việtphần 5 nghệ_thuật ngôn_từ sổ_tay từ_ngữ tái_bản 2017\n",
      "----------------------------\n",
      "Label:  chinh-tri-triet-hoc\n",
      "Data:  đông phương triết_học cương_yếu đông phương triết_học cương_yếu lý minh tuấn trình_bày vấn_đề cơ_bản đầy_đủ hệ_thống triết_học phương_đông cổ nho phật lão ấn dịch kinh trình_bày sáng_sủa ngôn_ngữ cô_đọng giúp dễ_dàng tiếp_cận khái_niệm trừu_tượng phức_tạp triết_học phương_đông cổ bổ_sung kho_tàng nghiên_cứu tìm_hiểu triết đông đông_đảo độc_giả đông phương triết_học cương_yếu\n",
      "----------------------------\n",
      "Label:  nghiep-vu-bao-chi\n",
      "Data:  báo quấc ngữ sài_gòn cuối thế_kỷ 19 quyển kết_quả dày công nghiên_cứu nền báo_chí nam_bộ bài báo xưa bao_quát xã_hội kỳ cuối thế_kỷ 19 thực_dân pháp hoàn_thành công cuộc xâm_chiếm đổi_thay ngày miền đất dân loay_hoay kiếm tình_hình nạn cờ_bạc đề_đóm gây hại thế_nào thế nữa hiểu cuộc kháng_chiến nhân_dân bị chính_quyền thuộc_địa coi giặc cuộc nổi dậy lớn_mạnh chưa bao_giờ im tiếng báo quấc ngữ sài_gòn cuối thế_kỷ 19\n",
      "----------------------------\n",
      "Label:  am-nhac-1\n",
      "Data:  tự học đàn guitar 1 tái_bản 06 12 2012 tự học đàn guitar 1 bài_tập gồm 70 bài hát nổi_tiếng ngoài muốn học đàn guitar chắc khỏi bối_rối bắt_đầu thế_nào nhỏ giúp qui_ước ký_hiệu bản_nhạc bài_tập phân_tích hiểu cấu_tạo bản_nhạc chọn hợp_âm bản_nhạc hiểu_biết tiết_điệu chơi chọn tiết_điệu bài nhạc bài_tập ứng_dụng phần_lớn ca_khúc thịnh_hành coi nhạc nhỏ xinh_xắn khá đầy_đủ tự học đàn guitar 1 tái_bản 06 12 2012\n",
      "----------------------------\n",
      "Label:  khoa-hoc-tu-nhien-xa-hoi\n",
      "Data:  luôn chứa_đựng bí_ẩn kỳ_diệu loài_người luôn nỗ_lực tìm_hiểu khám_phá chinh_phục tập_hợp con_số công_trình nghệ_thuật phiêu_lưu con_số công_trình nghệ_thuật phiêu_lưu thậm_chí cả thú sưu_tầm kỳ_lạ tất_cả tạo nên hiện_hữu tự_nhiên do tạo bức tranh nỗ_lực phi_thường sức chịu_đựng ghê_gớm sáng_tạo đóng_góp ngừng nghỉ kỳ thú thiên_nhiên bởi hùng_vĩ tráng_lệ vốn nó kỳ_diệu tạo_hoá muôn loài trí_tưởng_tượng phong_phú thế_nào đôi_khi khó tưởng_tượng cả hết_sức đáng sợ ô_nhiễm tàn_phá môi_trường tự_nhiên do gây dẫn mất cân_bằng sinh_thái đẩy đứng nguy_cơ đối_mặt thảm_hoạ mang bạn_đọc bổ_ích lý_thú bổ_sung nữa kho_tàng kiến_thức thế bên cạnh tuyệt_vời thiên_nhiên đáng sợ kia hy_vọng lời cảnh_báo mong rằng sớm ý_thức biện_pháp ngăn_chặn xảy thảm_hoạ đáng tiếc\n",
      "----------------------------\n",
      "Label:  lich-su-dia-ly\n",
      "Data:  dòng sự_kiện cung_cấp kiến_thức giá_trị đáng tin_cậy khắp dung phong_phú đặc_sắc kể chuyện tài mốc thời_gian sắp_xếp hợp_lí dễ cung_cấp kiến_thức giá_trị đáng tin_cậy khắp châu bốn_bể nội_dung phong_phú đặc_sắc kể chuyện tài_tình mốc thời_gian sắp_xếp hợp_lí dễ hiểu dòng sự_kiện\n",
      "----------------------------\n",
      "Label:  chinh-tri-triet-hoc\n",
      "Data:  văn_hóa đạo_đức tư_tưởng hồ chí_minh học_tập tư_tưởng đạo_đức phong_cách hồ chí minhchủ tịch hồ chí_minh nhà_tư_tưởng vĩ_đại nhà lý_luận thiên_tài nhà_văn_hóa kiệt_xuất anh_hùng giải_phóng dân_tộc cuộc_đời sự_nghiệp nêu tấm_gương toàn đảng toàn_quân lớp_lớp thế_hệ học_tập noi góp_phần thiết_thực thực_hiện chỉ_thị số 05 ct tw ngày 15 5 2016 chính_trị khóa xii chúng_tôi phát_hành học_tập tư_tưởng đạo_đức phong_cách hồ chí_minh nhằm cung_cấp tài_liệu nghiên_cứu học_tập cán_bộ đảng_viên nhân_dân học_tập tư_tưởng đạo_đức phong_cách hồ chí_minh chủ_tịch hồ chí_minh nhà_tư_tưởng vĩ_đại nhà lý_luận thiên_tài nhà_văn_hóa kiệt_xuất anh_hùng giải_phóng dân_tộc cuộc_đời sự_nghiệp nêu tấm_gương toàn đảng toàn_quân lớp_lớp thế_hệ học_tập noi góp_phần thiết_thực thực_hiện chỉ_thị số 05 ct tw ngày 15 5 2016 chính_trị khóa xii chúng_tôi phát_hành học_tập tư_tưởng đạo_đức phong_cách hồ chí_minh nhằm cung_cấp tài_liệu nghiên_cứu học_tập cán_bộ đảng_viên nhân_dân văn_hóa đạo_đức tư_tưởng hồ chí_minh\n"
     ]
    }
   ],
   "source": [
    "# lấy mẫu một số dữ liệu\n",
    "for i in random.choices(range(X.shape[0]), k=10):\n",
    "    print('----------------------------')\n",
    "    print('Label: ', y[i])\n",
    "    print('Data: ', X[i])"
   ]
  },
  {
   "cell_type": "code",
   "execution_count": 4,
   "id": "777596e3",
   "metadata": {},
   "outputs": [],
   "source": [
    "# Khởi tạo StratifiedKFold object cho tập train và tập valid\n",
    "num_folds = 10\n",
    "rstate = 1\n",
    "spliter = StratifiedKFold(n_splits=num_folds, shuffle=True, random_state=rstate)"
   ]
  },
  {
   "cell_type": "code",
   "execution_count": 5,
   "id": "b5485426",
   "metadata": {},
   "outputs": [
    {
     "name": "stdout",
     "output_type": "stream",
     "text": [
      "Kích thước tập train:  5999\n",
      "Kích thước tập test:  2000\n"
     ]
    }
   ],
   "source": [
    "# tách 1/4 tập dataset để làm tập test, còn lại 3/4 làm train và valid\n",
    "train_test_split = StratifiedKFold(n_splits=4, shuffle=True, random_state=rstate)\n",
    "train_index, test_index = next(train_test_split.split(X, y))\n",
    "X_train = np.array(X[train_index])\n",
    "y_train = np.array(y[train_index])\n",
    "X_test = np.array(X[test_index])\n",
    "y_test = np.array(y[test_index])\n",
    "\n",
    "print('Kích thước tập train: ', X_train.shape[0])\n",
    "print('Kích thước tập test: ', X_test.shape[0])\n",
    "\n"
   ]
  },
  {
   "cell_type": "markdown",
   "id": "f86dfc50",
   "metadata": {},
   "source": [
    "#### Chọn độ đo\n"
   ]
  },
  {
   "cell_type": "code",
   "execution_count": 6,
   "id": "0552a9e7",
   "metadata": {},
   "outputs": [],
   "source": [
    "from sklearn.metrics import accuracy_score, f1_score"
   ]
  },
  {
   "cell_type": "markdown",
   "id": "62ff4168",
   "metadata": {},
   "source": [
    "### Bộ trích chọn đặc trưng\n"
   ]
  },
  {
   "cell_type": "code",
   "execution_count": 7,
   "id": "f38d391e",
   "metadata": {},
   "outputs": [],
   "source": [
    "# Tạo thư mục lưu mô hình\n",
    "save_dir = './saved_model'\n",
    "\n",
    "if not os.path.exists(save_dir):\n",
    "    os.mkdir(save_dir)"
   ]
  },
  {
   "cell_type": "code",
   "execution_count": 8,
   "id": "bf128a23",
   "metadata": {},
   "outputs": [
    {
     "name": "stdout",
     "output_type": "stream",
     "text": [
      "Kích thước vector input:  27514\n"
     ]
    }
   ],
   "source": [
    "# Đánh giá độ hiệu quả của bộ trích chọn đặc trưng\n",
    "from sklearn.feature_extraction.text import CountVectorizer, TfidfTransformer\n",
    "from sklearn.pipeline import Pipeline\n",
    "\n",
    "\n",
    "feature_extractor = Pipeline([\n",
    "    ('vectorizer', CountVectorizer(stop_words=None)),\n",
    "    ('tf-idf', TfidfTransformer()),\n",
    "])\n",
    "\n",
    "train_features = feature_extractor.fit_transform(X_train, y_train)\n",
    "pickle.dump(feature_extractor, open('./saved_model/feature_extractor.sav', 'wb'))\n",
    "print('Kích thước vector input: ', train_features.shape[1])"
   ]
  },
  {
   "cell_type": "code",
   "execution_count": 9,
   "id": "05ebd57a",
   "metadata": {},
   "outputs": [
    {
     "name": "stdout",
     "output_type": "stream",
     "text": [
      "Danh sách nhãn\n",
      "\t am-nhac-1\n",
      "\t chinh-tri-triet-hoc\n",
      "\t du-lich-1\n",
      "\t khoa-hoc-co-ban\n",
      "\t khoa-hoc-ky-thuat\n",
      "\t khoa-hoc-tu-nhien-xa-hoi\n",
      "\t lich-su-dia-ly\n",
      "\t my-thuat-kien-truc\n",
      "\t nghiep-vu-bao-chi\n",
      "\t nong-lam-nghiep\n",
      "\t phap-luat-1\n",
      "\t sach-hoc-nghe\n",
      "\t sach-ton-giao\n",
      "\t the-thao\n",
      "\t van-hoa-nghe-thuat\n",
      "\t y-hoc\n"
     ]
    }
   ],
   "source": [
    "labels = sorted(set(y))\n",
    "print('Danh sách nhãn')\n",
    "for label in labels:\n",
    "    print('\\t', label)"
   ]
  },
  {
   "cell_type": "code",
   "execution_count": null,
   "id": "d8ac635d",
   "metadata": {},
   "outputs": [],
   "source": [
    "from sklearn.manifold import TSNE\n",
    "\n",
    "# sử dụng thư viện TSNE để convert vector 27289 chiều thành vector 2 chiều\n",
    "# việc này sẽ giúp việc visualize thuận tiện hơn\n",
    "tsne = TSNE(n_components=2, random_state=rstate, init=\"random\")\n",
    "train_x_2d = tsne.fit_transform(train_features)\n",
    "print('Kích thước mới: ', train_x_2d.shape)"
   ]
  },
  {
   "cell_type": "code",
   "execution_count": null,
   "id": "7cbc91f4",
   "metadata": {},
   "outputs": [],
   "source": [
    "# scatter các điểm dữ liệu lên mặt phẳng 2 chiều\n",
    "plt.figure(figsize=(20, 12))\n",
    "color_map = {\n",
    "    0: 'red', 1: 'blue', 2: 'lightgreen', 3: 'purple', \n",
    "    4: 'cyan', 5: 'black', 6: 'yellow', 7: 'magenta',\n",
    "    8: 'plum', 9: 'yellowgreen', 10: 'olive', 11: 'brown', \n",
    "    12: 'pink', 13: 'purple', 14: 'deeppink', 15: 'orange'\n",
    "}\n",
    "\n",
    "for idx, label in enumerate(labels):\n",
    "    plt.scatter(x=train_x_2d[y_train == label, 0], y=train_x_2d[y_train == label, 1], marker='*', c=color_map[idx], label=label)\n",
    "\n",
    "plt.xlabel('X')\n",
    "plt.ylabel('Y')\n",
    "plt.axis([-100, 100, -100, 100])\n",
    "plt.legend()\n",
    "plt.title('2D Visualization của tập train')\n",
    "plt.savefig('./images/feature_extractor_visualization.png', facecolor='whitesmoke', bbox_inches='tight')\n",
    "plt.show()"
   ]
  },
  {
   "cell_type": "markdown",
   "id": "e042c8fb",
   "metadata": {},
   "source": [
    "### Lựa chọn mô hình\n"
   ]
  },
  {
   "cell_type": "markdown",
   "id": "0374b74c",
   "metadata": {},
   "source": [
    "#### 1. KNN\n"
   ]
  },
  {
   "cell_type": "code",
   "execution_count": 15,
   "id": "94aec914",
   "metadata": {},
   "outputs": [
    {
     "name": "stdout",
     "output_type": "stream",
     "text": [
      "Với k = 1:\n",
      "\t - Thời gian train: 18.50 ms\n",
      "\t - Thời gian valid: 4515.08 ms\n",
      "\t - Accuracy score:  77.41 %\n",
      "\t - F1 score:        71.67 %\n",
      "Với k = 2:\n",
      "\t - Thời gian train: 20.34 ms\n",
      "\t - Thời gian valid: 4563.00 ms\n",
      "\t - Accuracy score:  73.96 %\n",
      "\t - F1 score:        69.09 %\n",
      "Với k = 5:\n",
      "\t - Thời gian train: 19.20 ms\n",
      "\t - Thời gian valid: 4482.50 ms\n",
      "\t - Accuracy score:  78.76 %\n",
      "\t - F1 score:        72.66 %\n",
      "Với k = 8:\n",
      "\t - Thời gian train: 19.10 ms\n",
      "\t - Thời gian valid: 4289.16 ms\n",
      "\t - Accuracy score:  79.90 %\n",
      "\t - F1 score:        73.73 %\n",
      "Với k = 10:\n",
      "\t - Thời gian train: 19.10 ms\n",
      "\t - Thời gian valid: 4502.41 ms\n",
      "\t - Accuracy score:  80.18 %\n",
      "\t - F1 score:        73.13 %\n",
      "Với k = 15:\n",
      "\t - Thời gian train: 18.80 ms\n",
      "\t - Thời gian valid: 4748.74 ms\n",
      "\t - Accuracy score:  80.15 %\n",
      "\t - F1 score:        72.48 %\n",
      "Với k = 20:\n",
      "\t - Thời gian train: 20.33 ms\n",
      "\t - Thời gian valid: 4642.83 ms\n",
      "\t - Accuracy score:  80.16 %\n",
      "\t - F1 score:        72.50 %\n",
      "Với k = 25:\n",
      "\t - Thời gian train: 19.55 ms\n",
      "\t - Thời gian valid: 4805.23 ms\n",
      "\t - Accuracy score:  80.28 %\n",
      "\t - F1 score:        72.24 %\n",
      "Với k = 30:\n",
      "\t - Thời gian train: 19.30 ms\n",
      "\t - Thời gian valid: 4680.46 ms\n",
      "\t - Accuracy score:  80.23 %\n",
      "\t - F1 score:        71.80 %\n"
     ]
    }
   ],
   "source": [
    "from sklearn.neighbors import KNeighborsClassifier\n",
    "\n",
    "# cố định khoảng cách mặc định là euclid và thay đổi K (số hàng xóm)\n",
    "k_list = [1, 2, 5, 8, 10, 15, 20, 25, 30]\n",
    "mean_accuracy_scores = []\n",
    "mean_f1_scores = []\n",
    "mean_train_time = []\n",
    "mean_valid_time = []\n",
    "for k in k_list:\n",
    "    # định nghĩa model\n",
    "    knn = KNeighborsClassifier(n_neighbors=k)\n",
    "    \n",
    "    # validate mô hình\n",
    "    accs = []\n",
    "    f1s = []\n",
    "    train_times = []\n",
    "    valid_times = []\n",
    "    \n",
    "    for train_index, valid_index in spliter.split(X_train, y_train):\n",
    "        # train model\n",
    "        start = time.time_ns()\n",
    "        knn.fit(train_features[train_index], y_train[train_index])\n",
    "        train_times.append(time.time_ns() - start)\n",
    "        \n",
    "        # valid model\n",
    "        start = time.time_ns()\n",
    "        y_pred = knn.predict(train_features[valid_index])\n",
    "        valid_times.append(time.time_ns() - start)\n",
    "        \n",
    "        # evaluate model\n",
    "        accs.append(accuracy_score(y_train[valid_index], y_pred))\n",
    "        f1s.append(f1_score(y_train[valid_index], y_pred, average='macro'))\n",
    "    \n",
    "    mean_train_time.append(mean(train_times))\n",
    "    mean_valid_time.append(mean(valid_times))\n",
    "    mean_accuracy_scores.append(mean(accs))\n",
    "    mean_f1_scores.append(mean(f1s))\n",
    "\n",
    "    print(f'Với k = {k}:')\n",
    "    print('\\t - Thời gian train: {:.2f} ms'.format(mean_train_time[-1] / 1e6))\n",
    "    print('\\t - Thời gian valid: {:.2f} ms'.format(mean_valid_time[-1] / 1e6))\n",
    "    print('\\t - Accuracy score:  {:.2f} %'.format(mean_accuracy_scores[-1] * 100))\n",
    "    print('\\t - F1 score:        {:.2f} %'.format(mean_f1_scores[-1] * 100))"
   ]
  },
  {
   "cell_type": "code",
   "execution_count": 13,
   "id": "bffad320",
   "metadata": {},
   "outputs": [
    {
     "data": {
      "image/png": "[encoded data removed]",
      "text/plain": [
       "<Figure size 1152x576 with 1 Axes>"
      ]
     },
     "metadata": {
      "needs_background": "light"
     },
     "output_type": "display_data"
    }
   ],
   "source": [
    "# plot accuracy\n",
    "plt.figure(figsize=(16, 8))\n",
    "plt.title('Độ chính xác của mô hình KNN theo số hàng xóm (k)')\n",
    "plt.xlabel('k')\n",
    "plt.ylabel('Độ chính xác (%)')\n",
    "plt.plot(k_list, mean_accuracy_scores, 'ro-')\n",
    "plt.plot(k_list, mean_f1_scores, 'bo-')\n",
    "plt.legend(['Accuracy', 'F1'], loc='best')\n",
    "plt.savefig('./images/knn_accuracy.png', facecolor='whitesmoke')\n",
    "plt.show()"
   ]
  },
  {
   "cell_type": "code",
   "execution_count": 12,
   "id": "5f80e4fb",
   "metadata": {},
   "outputs": [
    {
     "name": "stdout",
     "output_type": "stream",
     "text": [
      "Với distance = manhattan:\n",
      "\t - Thời gian train: 11.67 ms\n",
      "\t - Thời gian valid: 472.54 ms\n",
      "\t - Accuracy score:  25.84 %\n",
      "\t - F1 score:        26.57 %\n",
      "Với distance = euclidean:\n",
      "\t - Thời gian train: 6.99 ms\n",
      "\t - Thời gian valid: 139.02 ms\n",
      "\t - Accuracy score:  79.90 %\n",
      "\t - F1 score:        72.12 %\n"
     ]
    }
   ],
   "source": [
    "# cố định k = 10, thay đổi khoảng cách\n",
    "fixed_k = 10\n",
    "distances = ['manhattan', 'euclidean']\n",
    "mean_accuracy_scores = []\n",
    "mean_f1_scores = []\n",
    "mean_train_time = []\n",
    "mean_valid_time = []\n",
    "for dist in distances:\n",
    "    # định nghĩa model\n",
    "    knn = KNeighborsClassifier(n_neighbors=fixed_k, metric=dist)\n",
    "    \n",
    "    accs = []\n",
    "    f1s = []\n",
    "    train_times = []\n",
    "    valid_times = []\n",
    "    for train_index, valid_index in spliter.split(X_train, y_train):    \n",
    "        # train model\n",
    "        start = time.time_ns()\n",
    "        knn.fit(train_features[train_index], y_train[train_index])\n",
    "        train_times.append(time.time_ns() - start)\n",
    "        \n",
    "        # valid model\n",
    "        start = time.time_ns()\n",
    "        y_pred = knn.predict(train_features[valid_index])\n",
    "        valid_times.append(time.time_ns() - start)\n",
    "        \n",
    "        # evaluate model\n",
    "        accs.append(accuracy_score(y_train[valid_index], y_pred))\n",
    "        f1s.append(f1_score(y_train[valid_index], y_pred, average='macro'))\n",
    "    \n",
    "    mean_train_time.append(mean(train_times))\n",
    "    mean_valid_time.append(mean(valid_times))\n",
    "    mean_accuracy_scores.append(mean(accs))\n",
    "    mean_f1_scores.append(mean(f1s))\n",
    "    \n",
    "for i in range(len(distances)):\n",
    "    print(f'Với distance = {distances[i]}:')\n",
    "    print('\\t - Thời gian train: {:.2f} ms'.format(mean_train_time[i] / 1e6))\n",
    "    print('\\t - Thời gian valid: {:.2f} ms'.format(mean_valid_time[i] / 1e6))\n",
    "    print('\\t - Accuracy score:  {:.2f} %'.format(mean_accuracy_scores[i] * 100))\n",
    "    print('\\t - F1 score:        {:.2f} %'.format(mean_f1_scores[i] * 100))"
   ]
  },
  {
   "cell_type": "markdown",
   "id": "75c0fe97",
   "metadata": {},
   "source": [
    "#### 2. Multinomial Naive Bayes\n"
   ]
  },
  {
   "cell_type": "code",
   "execution_count": 14,
   "id": "1746bc77",
   "metadata": {},
   "outputs": [
    {
     "name": "stdout",
     "output_type": "stream",
     "text": [
      "Với alpha = 0.001:\n",
      "\t - Thời gian train: 30.52 ms\n",
      "\t - Thời gian valid: 2.99 ms\n",
      "\t - Accuracy score:  82.75 %\n",
      "\t - F1 score:        74.57 %\n",
      "Với alpha = 0.005:\n",
      "\t - Thời gian train: 30.42 ms\n",
      "\t - Thời gian valid: 2.69 ms\n",
      "\t - Accuracy score:  83.95 %\n",
      "\t - F1 score:        76.22 %\n",
      "Với alpha = 0.01:\n",
      "\t - Thời gian train: 30.91 ms\n",
      "\t - Thời gian valid: 2.80 ms\n",
      "\t - Accuracy score:  84.15 %\n",
      "\t - F1 score:        75.63 %\n",
      "Với alpha = 0.05:\n",
      "\t - Thời gian train: 32.31 ms\n",
      "\t - Thời gian valid: 3.19 ms\n",
      "\t - Accuracy score:  81.91 %\n",
      "\t - F1 score:        65.40 %\n",
      "Với alpha = 0.1:\n",
      "\t - Thời gian train: 31.32 ms\n",
      "\t - Thời gian valid: 2.39 ms\n",
      "\t - Accuracy score:  80.33 %\n",
      "\t - F1 score:        61.78 %\n",
      "Với alpha = 0.2:\n",
      "\t - Thời gian train: 29.02 ms\n",
      "\t - Thời gian valid: 2.49 ms\n",
      "\t - Accuracy score:  77.45 %\n",
      "\t - F1 score:        57.19 %\n",
      "Với alpha = 0.5:\n",
      "\t - Thời gian train: 30.82 ms\n",
      "\t - Thời gian valid: 3.09 ms\n",
      "\t - Accuracy score:  73.25 %\n",
      "\t - F1 score:        50.65 %\n",
      "Với alpha = 0.8:\n",
      "\t - Thời gian train: 30.92 ms\n",
      "\t - Thời gian valid: 3.19 ms\n",
      "\t - Accuracy score:  71.36 %\n",
      "\t - F1 score:        47.86 %\n",
      "Với alpha = 1:\n",
      "\t - Thời gian train: 30.32 ms\n",
      "\t - Thời gian valid: 2.49 ms\n",
      "\t - Accuracy score:  70.51 %\n",
      "\t - F1 score:        46.40 %\n",
      "Với alpha = 2:\n",
      "\t - Thời gian train: 29.72 ms\n",
      "\t - Thời gian valid: 2.99 ms\n",
      "\t - Accuracy score:  66.83 %\n",
      "\t - F1 score:        40.58 %\n",
      "Với alpha = 5:\n",
      "\t - Thời gian train: 30.32 ms\n",
      "\t - Thời gian valid: 2.69 ms\n",
      "\t - Accuracy score:  61.86 %\n",
      "\t - F1 score:        33.90 %\n",
      "Với alpha = 8:\n",
      "\t - Thời gian train: 29.62 ms\n",
      "\t - Thời gian valid: 2.99 ms\n",
      "\t - Accuracy score:  58.96 %\n",
      "\t - F1 score:        30.34 %\n",
      "Với alpha = 10:\n",
      "\t - Thời gian train: 30.23 ms\n",
      "\t - Thời gian valid: 2.18 ms\n",
      "\t - Accuracy score:  57.49 %\n",
      "\t - F1 score:        28.61 %\n"
     ]
    }
   ],
   "source": [
    "from sklearn.naive_bayes import MultinomialNB\n",
    "alphas = [0.001, 0.005, 0.01, 0.05, 0.1, 0.2, 0.5, 0.8, 1, 2, 5, 8, 10]\n",
    "mean_accuracy_scores = []\n",
    "mean_f1_scores = []\n",
    "mean_train_time = []\n",
    "mean_valid_time = []\n",
    "for a in alphas:\n",
    "    # định nghĩa model\n",
    "    model = MultinomialNB(alpha=a)\n",
    "    \n",
    "    accs = []\n",
    "    f1s = []\n",
    "    train_times = []\n",
    "    valid_times = []\n",
    "    for train_index, valid_index in spliter.split(X_train, y_train):    \n",
    "        # train model\n",
    "        start = time.time_ns()\n",
    "        model.fit(train_features[train_index], y_train[train_index])\n",
    "        train_times.append(time.time_ns() - start)\n",
    "        \n",
    "        # valid model\n",
    "        start = time.time_ns()\n",
    "        y_pred = model.predict(train_features[valid_index])\n",
    "        valid_times.append(time.time_ns() - start)\n",
    "        \n",
    "        # evaluate model\n",
    "        accs.append(accuracy_score(y_train[valid_index], y_pred))\n",
    "        f1s.append(f1_score(y_train[valid_index], y_pred, average='macro'))\n",
    "    \n",
    "    mean_train_time.append(mean(train_times))\n",
    "    mean_valid_time.append(mean(valid_times))\n",
    "    mean_accuracy_scores.append(mean(accs))\n",
    "    mean_f1_scores.append(mean(f1s))\n",
    "    \n",
    "for i in range(len(alphas)):\n",
    "    print(f'Với alpha = {alphas[i]}:')\n",
    "    print('\\t - Thời gian train: {:.2f} ms'.format(mean_train_time[i] / 1e6))\n",
    "    print('\\t - Thời gian valid: {:.2f} ms'.format(mean_valid_time[i] / 1e6))\n",
    "    print('\\t - Accuracy score:  {:.2f} %'.format(mean_accuracy_scores[i] * 100))\n",
    "    print('\\t - F1 score:        {:.2f} %'.format(mean_f1_scores[i] * 100))"
   ]
  },
  {
   "cell_type": "code",
   "execution_count": 15,
   "id": "a54fbe42",
   "metadata": {},
   "outputs": [
    {
     "data": {
      "image/png": "[encoded data removed]",
      "text/plain": [
       "<Figure size 1152x576 with 1 Axes>"
      ]
     },
     "metadata": {
      "needs_background": "light"
     },
     "output_type": "display_data"
    }
   ],
   "source": [
    "# plot accuracy\n",
    "plt.figure(figsize=(16, 8))\n",
    "plt.title('Độ chính xác của mô hình Multinomial Naive Bayes theo hệ số làm mềm')\n",
    "plt.xlabel('Hệ số làm mềm alpha')\n",
    "plt.ylabel('Độ chính xác (%)')\n",
    "plt.plot(alphas, mean_accuracy_scores, 'ro-')\n",
    "plt.plot(alphas, mean_f1_scores, 'bo-')\n",
    "plt.legend(['Accuracy', 'F1'], loc='best')\n",
    "plt.savefig('./images/mnb_a_accuracy.png', facecolor='whitesmoke')\n",
    "plt.show()"
   ]
  },
  {
   "cell_type": "code",
   "execution_count": 1,
   "id": "c6b1bade",
   "metadata": {},
   "outputs": [
    {
     "name": "stdout",
     "output_type": "stream",
     "text": [
      "Thuật toán tối ưu:  newton-cg\n"
     ]
    },
    {
     "ename": "NameError",
     "evalue": "name 'spliter' is not defined",
     "output_type": "error",
     "traceback": [
      "\u001b[1;31m---------------------------------------------------------------------------\u001b[0m",
      "\u001b[1;31mNameError\u001b[0m                                 Traceback (most recent call last)",
      "Input \u001b[1;32mIn [1]\u001b[0m, in \u001b[0;36m<cell line: 12>\u001b[1;34m()\u001b[0m\n\u001b[0;32m     19\u001b[0m train_times \u001b[38;5;241m=\u001b[39m []\n\u001b[0;32m     20\u001b[0m valid_times \u001b[38;5;241m=\u001b[39m []\n\u001b[1;32m---> 22\u001b[0m \u001b[38;5;28;01mfor\u001b[39;00m train_index, valid_index \u001b[38;5;129;01min\u001b[39;00m \u001b[43mspliter\u001b[49m\u001b[38;5;241m.\u001b[39msplit(X_train, y_train):    \n\u001b[0;32m     23\u001b[0m     \u001b[38;5;66;03m# train model\u001b[39;00m\n\u001b[0;32m     24\u001b[0m     start \u001b[38;5;241m=\u001b[39m time\u001b[38;5;241m.\u001b[39mtime_ns()\n\u001b[0;32m     25\u001b[0m     model\u001b[38;5;241m.\u001b[39mfit(train_features[train_index], y_train[train_index])\n",
      "\u001b[1;31mNameError\u001b[0m: name 'spliter' is not defined"
     ]
    }
   ],
   "source": [
    "# cố định phương pháp hiệu chình là l2 và C = 2, thay đổi thuật toán tối ưu\n",
    "from sklearn.linear_model import LogisticRegression\n",
    "opts = {'newton-cg':['l2', 'none'], 'lbfgs':['l2', 'none'], 'liblinear':['l1', 'l2'], 'sag':['l2', 'none'], 'saga':['elasticnet', 'l1', 'l2', 'none']}\n",
    "fixed_C = 2\n",
    "fixed_reg = 'l2'\n",
    "MAX_ITER = 100_000\n",
    "\n",
    "mean_accuracy_scores = []\n",
    "mean_f1_scores = []\n",
    "mean_train_time = []\n",
    "mean_valid_time = []\n",
    "for opt in opts.keys():\n",
    "    print('Thuật toán tối ưu: ', opt)\n",
    "    # định nghĩa model\n",
    "    model = LogisticRegression(solver=opt, penalty=fixed_reg, C=2, max_iter=MAX_ITER)\n",
    "\n",
    "    accs = []\n",
    "    f1s = []\n",
    "    train_times = []\n",
    "    valid_times = []\n",
    "    \n",
    "    for train_index, valid_index in spliter.split(X_train, y_train):    \n",
    "        # train model\n",
    "        start = time.time_ns()\n",
    "        model.fit(train_features[train_index], y_train[train_index])\n",
    "        train_times.append(time.time_ns() - start)\n",
    "\n",
    "        # valid model\n",
    "        start = time.time_ns()\n",
    "        y_pred = model.predict(train_features[valid_index])\n",
    "        valid_times.append(time.time_ns() - start)\n",
    "\n",
    "        # evaluate model\n",
    "        accs.append(accuracy_score(y_train[valid_index], y_pred))\n",
    "        f1s.append(f1_score(y_train[valid_index], y_pred, average='macro'))\n",
    "    \n",
    "    mean_accuracy_scores.append(mean(accs))\n",
    "    mean_f1_scores.append(mean(f1s))\n",
    "    mean_train_time.append(mean(train_times))\n",
    "    mean_valid_time.append(mean(valid_times))\n",
    "    \n",
    "    print('\\t - Thời gian train: {:.2f} ms'.format(mean_train_time[-1] / 1e6))\n",
    "    print('\\t - Thời gian valid: {:.2f} ms'.format(mean_valid_time[-1] / 1e6))\n",
    "    print('\\t - Accuracy score:  {:.2f} %'.format(mean_accuracy_scores[-1] * 100))\n",
    "    print('\\t - F1 score:        {:.2f} %'.format(mean_f1_scores[-1] * 100))"
   ]
  },
  {
   "cell_type": "code",
   "execution_count": 34,
   "id": "bc87d45e",
   "metadata": {},
   "outputs": [
    {
     "data": {
      "image/png": "[encoded data removed]",
      "text/plain": [
       "<Figure size 1152x720 with 1 Axes>"
      ]
     },
     "metadata": {
      "needs_background": "light"
     },
     "output_type": "display_data"
    }
   ],
   "source": [
    "# Về f1\n",
    "plt.figure(figsize=(16, 10))\n",
    "plt.title('F1 score của Logistic Regression theo thuật toán tối ưu')\n",
    "plt.xlabel('Thuật toán tối ưu')\n",
    "plt.ylabel('Phân trăm')\n",
    "plt.bar(opts.keys(), np.array(mean_f1_scores) * 100, color='crimson', width=0.5, label='F1')\n",
    "plt.savefig('./images/lgres_opt_f1_comparision.png', facecolor='whitesmoke')\n",
    "plt.show()"
   ]
  },
  {
   "cell_type": "code",
   "execution_count": 1,
   "id": "547a2a56",
   "metadata": {
    "scrolled": true
   },
   "outputs": [
    {
     "ename": "NameError",
     "evalue": "name 'opts' is not defined",
     "output_type": "error",
     "traceback": [
      "\u001b[1;31m---------------------------------------------------------------------------\u001b[0m",
      "\u001b[1;31mNameError\u001b[0m                                 Traceback (most recent call last)",
      "Input \u001b[1;32mIn [1]\u001b[0m, in \u001b[0;36m<cell line: 5>\u001b[1;34m()\u001b[0m\n\u001b[0;32m      2\u001b[0m \u001b[38;5;28;01mfrom\u001b[39;00m \u001b[38;5;21;01msklearn\u001b[39;00m\u001b[38;5;21;01m.\u001b[39;00m\u001b[38;5;21;01mlinear_model\u001b[39;00m \u001b[38;5;28;01mimport\u001b[39;00m LogisticRegression\n\u001b[0;32m      3\u001b[0m Cs \u001b[38;5;241m=\u001b[39m [\u001b[38;5;241m1\u001b[39m, \u001b[38;5;241m2\u001b[39m, \u001b[38;5;241m5\u001b[39m, \u001b[38;5;241m10\u001b[39m, \u001b[38;5;241m16\u001b[39m]\n\u001b[1;32m----> 5\u001b[0m \u001b[38;5;28;01mfor\u001b[39;00m reg \u001b[38;5;129;01min\u001b[39;00m \u001b[43mopts\u001b[49m[\u001b[38;5;124m'\u001b[39m\u001b[38;5;124msag\u001b[39m\u001b[38;5;124m'\u001b[39m]:\n\u001b[0;32m      6\u001b[0m     \u001b[38;5;28mprint\u001b[39m(\u001b[38;5;124m'\u001b[39m\u001b[38;5;124mPhương pháp hiệu chỉnh: \u001b[39m\u001b[38;5;124m'\u001b[39m, reg)\n\u001b[0;32m      7\u001b[0m     \u001b[38;5;28;01mif\u001b[39;00m reg \u001b[38;5;241m!=\u001b[39m \u001b[38;5;124m'\u001b[39m\u001b[38;5;124mnone\u001b[39m\u001b[38;5;124m'\u001b[39m:\n",
      "\u001b[1;31mNameError\u001b[0m: name 'opts' is not defined"
     ]
    }
   ],
   "source": [
    "# cố định thuật toán tối ưu là SAG, thay đổi phương pháp hiệu chỉnh và hệ số hiệu chỉnh\n",
    "from sklearn.linear_model import LogisticRegression\n",
    "Cs = [1, 2, 5, 10, 16]\n",
    "\n",
    "for reg in opts['sag']:\n",
    "    print('Phương pháp hiệu chỉnh: ', reg)\n",
    "    if reg != 'none':\n",
    "        for c in Cs:\n",
    "            print('\\tHệ số hiệu chỉnh: ', c)\n",
    "            # định nghĩa model\n",
    "            model = LogisticRegression(solver='sag', penalty=reg, C=c, max_iter=100_000)\n",
    "\n",
    "            accs = []\n",
    "            f1s = []\n",
    "            train_times = []\n",
    "            valid_times = []\n",
    "\n",
    "            for train_index, valid_index in spliter.split(X_train, y_train):    \n",
    "                # train model\n",
    "                start = time.time_ns()\n",
    "                model.fit(train_features[train_index], y_train[train_index])\n",
    "                train_times.append(time.time_ns() - start)\n",
    "\n",
    "                # valid model\n",
    "                start = time.time_ns()\n",
    "                y_pred = model.predict(train_features[valid_index])\n",
    "                valid_times.append(time.time_ns() - start)\n",
    "\n",
    "                # evaluate model\n",
    "                accs.append(accuracy_score(y_train[valid_index], y_pred))\n",
    "                f1s.append(f1_score(y_train[valid_index], y_pred, average='macro'))\n",
    "\n",
    "            print('\\t - Thời gian train: {:.2f} ms'.format(mean(train_times) / 1e6))\n",
    "            print('\\t - Thời gian valid: {:.2f} ms'.format(mean(valid_times) / 1e6))\n",
    "            print('\\t - Accuracy score:  {:.2f} %'.format(mean(accs) * 100))\n",
    "            print('\\t - F1 score:        {:.2f} %'.format(mean(f1s) * 100))\n",
    "    else:\n",
    "        # định nghĩa model\n",
    "        model = LogisticRegression(solver='sag', penalty=reg, max_iter=100_000)\n",
    "\n",
    "        accs = []\n",
    "        f1s = []\n",
    "        train_times = []\n",
    "        valid_times = []\n",
    "\n",
    "        for train_index, valid_index in spliter.split(X_train, y_train):    \n",
    "            # train model\n",
    "            start = time.time_ns()\n",
    "            model.fit(train_features[train_index], y_train[train_index])\n",
    "            train_times.append(time.time_ns() - start)\n",
    "\n",
    "            # valid model\n",
    "            start = time.time_ns()\n",
    "            y_pred = model.predict(train_features[valid_index])\n",
    "            valid_times.append(time.time_ns() - start)\n",
    "\n",
    "            # evaluate model\n",
    "            accs.append(accuracy_score(y_train[valid_index], y_pred))\n",
    "            f1s.append(f1_score(y_train[valid_index], y_pred, average='macro'))\n",
    "\n",
    "        print('\\t - Thời gian train: {:.2f} ms'.format(mean(train_times) / 1e6))\n",
    "        print('\\t - Thời gian valid: {:.2f} ms'.format(mean(valid_times) / 1e6))\n",
    "        print('\\t - Accuracy score:  {:.2f} %'.format(mean(accs) * 100))\n",
    "        print('\\t - F1 score:        {:.2f} %'.format(mean(f1s) * 100))"
   ]
  },
  {
   "cell_type": "code",
   "execution_count": 36,
   "id": "a4e5af67",
   "metadata": {},
   "outputs": [
    {
     "name": "stdout",
     "output_type": "stream",
     "text": [
      "Phương pháp hiệu chỉnh: elasticnet\n",
      "\tL1 ratio:  0.1\n",
      "\t - Thời gian train: 27741.34 ms\n",
      "\t - Thời gian valid: 3.39 ms\n",
      "\t - Accuracy score:  83.78 %\n",
      "\t - F1 score:        74.37 %\n",
      "\tL1 ratio:  0.2\n",
      "\t - Thời gian train: 16348.25 ms\n",
      "\t - Thời gian valid: 3.69 ms\n",
      "\t - Accuracy score:  83.75 %\n",
      "\t - F1 score:        74.31 %\n",
      "\tL1 ratio:  0.5\n",
      "\t - Thời gian train: 8565.34 ms\n",
      "\t - Thời gian valid: 3.39 ms\n",
      "\t - Accuracy score:  83.46 %\n",
      "\t - F1 score:        74.61 %\n",
      "\tL1 ratio:  0.8\n",
      "\t - Thời gian train: 8501.55 ms\n",
      "\t - Thời gian valid: 2.99 ms\n",
      "\t - Accuracy score:  82.58 %\n",
      "\t - F1 score:        74.67 %\n",
      "\tL1 ratio:  1.0\n",
      "\t - Thời gian train: 38106.15 ms\n",
      "\t - Thời gian valid: 2.49 ms\n",
      "\t - Accuracy score:  82.15 %\n",
      "\t - F1 score:        75.35 %\n"
     ]
    }
   ],
   "source": [
    "# Do SAGA có hỗ trợ phương pháp elasticnet nên trước tiên, cần tiến hành chọn hệ số cho phương pháp này trước\n",
    "# Cố định thuật toán tối ưu SAGA, phương pháp hiệu chỉnh elasticnet, hệ số C = 2\n",
    "# Những giá trị sẽ sử dụng cho l1_ratio là [0.1, 0.2, 0.5, 0.8, 1.0]\n",
    "ratios = [0.1, 0.2, 0.5, 0.8, 1.0]\n",
    "\n",
    "print('Phương pháp hiệu chỉnh: elasticnet')\n",
    "for ratio in ratios:\n",
    "    print('\\tL1 ratio: ', ratio)\n",
    "    # định nghĩa model\n",
    "    model = LogisticRegression(solver='saga', penalty='elasticnet', C=2, l1_ratio=ratio, max_iter=100_000)\n",
    "\n",
    "    accs = []\n",
    "    f1s = []\n",
    "    train_times = []\n",
    "    valid_times = []\n",
    "\n",
    "    for train_index, valid_index in spliter.split(X_train, y_train):    \n",
    "        # train model\n",
    "        start = time.time_ns()\n",
    "        model.fit(train_features[train_index], y_train[train_index])\n",
    "        train_times.append(time.time_ns() - start)\n",
    "\n",
    "        # valid model\n",
    "        start = time.time_ns()\n",
    "        y_pred = model.predict(train_features[valid_index])\n",
    "        valid_times.append(time.time_ns() - start)\n",
    "\n",
    "        # evaluate model\n",
    "        accs.append(accuracy_score(y_train[valid_index], y_pred))\n",
    "        f1s.append(f1_score(y_train[valid_index], y_pred, average='macro'))\n",
    "\n",
    "    print('\\t - Thời gian train: {:.2f} ms'.format(mean(train_times) / 1e6))\n",
    "    print('\\t - Thời gian valid: {:.2f} ms'.format(mean(valid_times) / 1e6))\n",
    "    print('\\t - Accuracy score:  {:.2f} %'.format(mean(accs) * 100))\n",
    "    print('\\t - F1 score:        {:.2f} %'.format(mean(f1s) * 100))"
   ]
  },
  {
   "cell_type": "code",
   "execution_count": null,
   "id": "09fbcdbc",
   "metadata": {},
   "outputs": [
    {
     "name": "stdout",
     "output_type": "stream",
     "text": [
      "Phương pháp hiệu chỉnh:  elasticnet\n",
      "\tHệ số hiệu chỉnh:  1\n",
      "\t - Thời gian train: 3764.84 ms\n",
      "\t - Thời gian valid: 2.49 ms\n",
      "\t - Accuracy score:  81.11 %\n",
      "\t - F1 score:        69.42 %\n",
      "\tHệ số hiệu chỉnh:  2\n",
      "\t - Thời gian train: 8434.39 ms\n",
      "\t - Thời gian valid: 2.40 ms\n",
      "\t - Accuracy score:  83.46 %\n",
      "\t - F1 score:        74.61 %\n",
      "\tHệ số hiệu chỉnh:  5\n",
      "\t - Thời gian train: 23379.45 ms\n",
      "\t - Thời gian valid: 3.89 ms\n",
      "\t - Accuracy score:  84.25 %\n",
      "\t - F1 score:        76.98 %\n",
      "\tHệ số hiệu chỉnh:  10\n",
      "\t - Thời gian train: 47219.97 ms\n",
      "\t - Thời gian valid: 2.30 ms\n",
      "\t - Accuracy score:  84.23 %\n",
      "\t - F1 score:        77.34 %\n",
      "\tHệ số hiệu chỉnh:  16\n",
      "\t - Thời gian train: 76774.38 ms\n",
      "\t - Thời gian valid: 2.69 ms\n",
      "\t - Accuracy score:  84.13 %\n",
      "\t - F1 score:        77.31 %\n",
      "Phương pháp hiệu chỉnh:  l1\n",
      "\tHệ số hiệu chỉnh:  1\n",
      "\t - Thời gian train: 12456.83 ms\n",
      "\t - Thời gian valid: 3.29 ms\n",
      "\t - Accuracy score:  80.11 %\n",
      "\t - F1 score:        72.51 %\n",
      "\tHệ số hiệu chỉnh:  2\n",
      "\t - Thời gian train: 37562.07 ms\n",
      "\t - Thời gian valid: 2.59 ms\n",
      "\t - Accuracy score:  82.16 %\n",
      "\t - F1 score:        75.37 %\n",
      "\tHệ số hiệu chỉnh:  5\n",
      "\t - Thời gian train: 124248.37 ms\n",
      "\t - Thời gian valid: 3.00 ms\n",
      "\t - Accuracy score:  82.41 %\n",
      "\t - F1 score:        75.84 %\n",
      "\tHệ số hiệu chỉnh:  10\n",
      "\t - Thời gian train: 231054.64 ms\n",
      "\t - Thời gian valid: 3.39 ms\n",
      "\t - Accuracy score:  82.11 %\n",
      "\t - F1 score:        75.70 %\n",
      "\tHệ số hiệu chỉnh:  16\n",
      "\t - Thời gian train: 276012.44 ms\n",
      "\t - Thời gian valid: 3.79 ms\n",
      "\t - Accuracy score:  82.15 %\n",
      "\t - F1 score:        75.70 %\n",
      "Phương pháp hiệu chỉnh:  l2\n",
      "\tHệ số hiệu chỉnh:  1\n",
      "\t - Thời gian train: 1134.96 ms\n",
      "\t - Thời gian valid: 3.99 ms\n",
      "\t - Accuracy score:  82.53 %\n",
      "\t - F1 score:        70.22 %\n",
      "\tHệ số hiệu chỉnh:  2\n",
      "\t - Thời gian train: 1317.97 ms\n",
      "\t - Thời gian valid: 3.19 ms\n",
      "\t - Accuracy score:  84.08 %\n",
      "\t - F1 score:        74.57 %\n",
      "\tHệ số hiệu chỉnh:  5\n",
      "\t - Thời gian train: 3282.81 ms\n",
      "\t - Thời gian valid: 3.09 ms\n",
      "\t - Accuracy score:  84.88 %\n",
      "\t - F1 score:        77.55 %\n",
      "\tHệ số hiệu chỉnh:  10\n",
      "\t - Thời gian train: 5731.93 ms\n",
      "\t - Thời gian valid: 3.30 ms\n",
      "\t - Accuracy score:  85.00 %\n",
      "\t - F1 score:        77.96 %\n",
      "\tHệ số hiệu chỉnh:  16\n",
      "\t - Thời gian train: 6460.79 ms\n",
      "\t - Thời gian valid: 3.89 ms\n",
      "\t - Accuracy score:  84.90 %\n",
      "\t - F1 score:        78.19 %\n",
      "Phương pháp hiệu chỉnh:  none\n"
     ]
    },
    {
     "name": "stderr",
     "output_type": "stream",
     "text": [
      "C:\\Users\\TheAnh\\anaconda3\\lib\\site-packages\\sklearn\\linear_model\\_sag.py:352: ConvergenceWarning: The max_iter was reached which means the coef_ did not converge\n",
      "  warnings.warn(\n"
     ]
    }
   ],
   "source": [
    "# cố định thuật toán tối ưu là SAGA, thay đổi phương pháp hiệu chỉnh và hệ số hiệu chỉnh\n",
    "# đối với phương pháp elasticnet, cố định tỉ số L1 là 0.5\n",
    "from sklearn.linear_model import LogisticRegression\n",
    "Cs = [1, 2, 5, 10, 16]\n",
    "best_ratio = 0.5\n",
    "opts = {'newton-cg':['l2', 'none'], 'lbfgs':['l2', 'none'], 'liblinear':['l1', 'l2'], 'sag':['l2', 'none'], 'saga':['elasticnet', 'l1', 'l2', 'none']}\n",
    "\n",
    "# do việc thử nhiều tham số và phương pháp khác nhau nên đôi khi có thể dẫn tới việc mô hình không hội tụ\n",
    "# để tránh vấn đề này cũng như tiết kiệm thời gian huấn luyện thì ta sẽ giới hạn số lần lặp tối đa là 10,000\n",
    "MAX_ITER = 10_000\n",
    "\n",
    "for reg in opts['saga']:\n",
    "    print('Phương pháp hiệu chỉnh: ', reg)\n",
    "    if reg != 'none':\n",
    "        for c in Cs:\n",
    "            print('\\tHệ số hiệu chỉnh: ', c)\n",
    "            # định nghĩa model\n",
    "            if reg == 'elasticnet':\n",
    "                model = LogisticRegression(solver='saga', penalty=reg, C=c, l1_ratio=best_ratio, max_iter=MAX_ITER)\n",
    "            else:\n",
    "                model = LogisticRegression(solver='saga', penalty=reg, C=c, max_iter=MAX_ITER)\n",
    "\n",
    "            accs = []\n",
    "            f1s = []\n",
    "            train_times = []\n",
    "            valid_times = []\n",
    "\n",
    "            for train_index, valid_index in spliter.split(X_train, y_train):    \n",
    "                # train model\n",
    "                start = time.time_ns()\n",
    "                model.fit(train_features[train_index], y_train[train_index])\n",
    "                train_times.append(time.time_ns() - start)\n",
    "\n",
    "                # valid model\n",
    "                start = time.time_ns()\n",
    "                y_pred = model.predict(train_features[valid_index])\n",
    "                valid_times.append(time.time_ns() - start)\n",
    "\n",
    "                # evaluate model\n",
    "                accs.append(accuracy_score(y_train[valid_index], y_pred))\n",
    "                f1s.append(f1_score(y_train[valid_index], y_pred, average='macro'))\n",
    "\n",
    "            print('\\t - Thời gian train: {:.2f} ms'.format(mean(train_times) / 1e6))\n",
    "            print('\\t - Thời gian valid: {:.2f} ms'.format(mean(valid_times) / 1e6))\n",
    "            print('\\t - Accuracy score:  {:.2f} %'.format(mean(accs) * 100))\n",
    "            print('\\t - F1 score:        {:.2f} %'.format(mean(f1s) * 100))\n",
    "    else:\n",
    "        # định nghĩa model\n",
    "        model = LogisticRegression(solver='saga', penalty=reg, max_iter=MAX_ITER)\n",
    "\n",
    "        accs = []\n",
    "        f1s = []\n",
    "        train_times = []\n",
    "        valid_times = []\n",
    "\n",
    "        for train_index, valid_index in spliter.split(X_train, y_train):    \n",
    "            # train model\n",
    "            start = time.time_ns()\n",
    "            model.fit(train_features[train_index], y_train[train_index])\n",
    "            train_times.append(time.time_ns() - start)\n",
    "\n",
    "            # valid model\n",
    "            start = time.time_ns()\n",
    "            y_pred = model.predict(train_features[valid_index])\n",
    "            valid_times.append(time.time_ns() - start)\n",
    "\n",
    "            # evaluate model\n",
    "            accs.append(accuracy_score(y_train[valid_index], y_pred))\n",
    "            f1s.append(f1_score(y_train[valid_index], y_pred, average='macro'))\n",
    "\n",
    "        print('\\t - Thời gian train: {:.2f} ms'.format(mean(train_times) / 1e6))\n",
    "        print('\\t - Thời gian valid: {:.2f} ms'.format(mean(valid_times) / 1e6))\n",
    "        print('\\t - Accuracy score:  {:.2f} %'.format(mean(accs) * 100))\n",
    "        print('\\t - F1 score:        {:.2f} %'.format(mean(f1s) * 100))"
   ]
  },
  {
   "cell_type": "markdown",
   "id": "de8e021d",
   "metadata": {},
   "source": [
    "### So sánh những mô hình tốt nhất\n"
   ]
  },
  {
   "cell_type": "code",
   "execution_count": 23,
   "id": "b2f2a9bb",
   "metadata": {},
   "outputs": [],
   "source": [
    "from sklearn.neighbors import KNeighborsClassifier\n",
    "from sklearn.naive_bayes import MultinomialNB\n",
    "from sklearn.linear_model import LogisticRegression\n",
    "from sklearn.ensemble import RandomForestClassifier\n",
    "from sklearn.svm import SVC\n",
    "\n",
    "# Mô hình KNN với K = 10 và sử dụng khoảng cách Euclide\n",
    "knn = KNeighborsClassifier(n_neighbors=10, metric='euclidean')\n",
    "\n",
    "# Mô hình Multinomial Naive Bayes với alpha = 0.005\n",
    "mnb = MultinomialNB(alpha=0.005)\n",
    "\n",
    "# Mô hình Logistic Regression với thuật toán tối ưu SAGA, phương pháp hiệu chỉnh L2, C = 16\n",
    "lreg = LogisticRegression(penalty='l2', C=16, solver='saga', max_iter=10_000)\n",
    "\n"
   ]
  },
  {
   "cell_type": "code",
   "execution_count": 28,
   "id": "18751e6a",
   "metadata": {},
   "outputs": [],
   "source": [
    "# Validate mô hình\n",
    "train_times = []\n",
    "valid_times = []\n",
    "accuracy_scores = []\n",
    "f1_scores = []"
   ]
  },
  {
   "cell_type": "code",
   "execution_count": 29,
   "id": "2153c53a",
   "metadata": {},
   "outputs": [
    {
     "name": "stdout",
     "output_type": "stream",
     "text": [
      "Mô hình KNN\n",
      "\t - Thời gian train: 0.01 s\n",
      "\t - Thời gian valid: 0.20 s\n",
      "\t - Accuracy score:  79.90 %\n",
      "\t - F1 score:        72.12 %\n"
     ]
    }
   ],
   "source": [
    "# KNN Model\n",
    "trains = []\n",
    "valids = []\n",
    "accs = []\n",
    "f1s = []\n",
    "\n",
    "for train_index, valid_index in spliter.split(X_train, y_train):    \n",
    "    # train model\n",
    "    start = time.time_ns()\n",
    "    knn.fit(train_features[train_index], y_train[train_index])\n",
    "    trains.append(time.time_ns() - start)\n",
    "\n",
    "    # valid model\n",
    "    start = time.time_ns()\n",
    "    y_pred = knn.predict(train_features[valid_index])\n",
    "    valids.append(time.time_ns() - start)\n",
    "\n",
    "    # evaluate model\n",
    "    accs.append(accuracy_score(y_train[valid_index], y_pred))\n",
    "    f1s.append(f1_score(y_train[valid_index], y_pred, average='macro'))\n",
    "    \n",
    "# them vao list    \n",
    "train_times.append(mean(trains))\n",
    "valid_times.append(mean(valids))\n",
    "accuracy_scores.append(mean(accs))\n",
    "f1_scores.append(mean(f1s))\n",
    "\n",
    "print(f'Mô hình KNN')\n",
    "print('\\t - Thời gian train: {:.2f} s'.format(train_times[-1] / 1e9))\n",
    "print('\\t - Thời gian valid: {:.2f} s'.format(valid_times[-1] / 1e9))\n",
    "print('\\t - Accuracy score:  {:.2f} %'.format(accuracy_scores[-1] * 100))\n",
    "print('\\t - F1 score:        {:.2f} %'.format(f1_scores[-1] * 100))"
   ]
  },
  {
   "cell_type": "code",
   "execution_count": 30,
   "id": "0d391f81",
   "metadata": {},
   "outputs": [
    {
     "name": "stdout",
     "output_type": "stream",
     "text": [
      "Mô hình Multinomial Naive Bayes\n",
      "\t - Thời gian train: 0.04 s\n",
      "\t - Thời gian valid: 0.00 s\n",
      "\t - Accuracy score:  83.95 %\n",
      "\t - F1 score:        76.22 %\n"
     ]
    }
   ],
   "source": [
    "# Multinomial Naive Bayes Model\n",
    "trains = []\n",
    "valids = []\n",
    "accs = []\n",
    "f1s = []\n",
    "\n",
    "for train_index, valid_index in spliter.split(X_train, y_train):    \n",
    "    # train model\n",
    "    start = time.time_ns()\n",
    "    mnb.fit(train_features[train_index], y_train[train_index])\n",
    "    trains.append(time.time_ns() - start)\n",
    "\n",
    "    # valid model\n",
    "    start = time.time_ns()\n",
    "    y_pred = mnb.predict(train_features[valid_index])\n",
    "    valids.append(time.time_ns() - start)\n",
    "\n",
    "    # evaluate model\n",
    "    accs.append(accuracy_score(y_train[valid_index], y_pred))\n",
    "    f1s.append(f1_score(y_train[valid_index], y_pred, average='macro'))\n",
    "    \n",
    "# them vao list    \n",
    "train_times.append(mean(trains))\n",
    "valid_times.append(mean(valids))\n",
    "accuracy_scores.append(mean(accs))\n",
    "f1_scores.append(mean(f1s))\n",
    "\n",
    "print(f'Mô hình Multinomial Naive Bayes')\n",
    "print('\\t - Thời gian train: {:.2f} s'.format(train_times[-1] / 1e9))\n",
    "print('\\t - Thời gian valid: {:.2f} s'.format(valid_times[-1] / 1e9))\n",
    "print('\\t - Accuracy score:  {:.2f} %'.format(accuracy_scores[-1] * 100))\n",
    "print('\\t - F1 score:        {:.2f} %'.format(f1_scores[-1] * 100))"
   ]
  },
  {
   "cell_type": "code",
   "execution_count": 31,
   "id": "f25f8bc5",
   "metadata": {},
   "outputs": [
    {
     "name": "stdout",
     "output_type": "stream",
     "text": [
      "Mô hình Logistic Regression\n",
      "\t - Thời gian train: 7.23 s\n",
      "\t - Thời gian valid: 0.00 s\n",
      "\t - Accuracy score:  84.95 %\n",
      "\t - F1 score:        78.23 %\n"
     ]
    }
   ],
   "source": [
    "# Logistic Regression Model\n",
    "trains = []\n",
    "valids = []\n",
    "accs = []\n",
    "f1s = []\n",
    "\n",
    "for train_index, valid_index in spliter.split(X_train, y_train):    \n",
    "    # train model\n",
    "    start = time.time_ns()\n",
    "    lreg.fit(train_features[train_index], y_train[train_index])\n",
    "    trains.append(time.time_ns() - start)\n",
    "\n",
    "    # valid model\n",
    "    start = time.time_ns()\n",
    "    y_pred = lreg.predict(train_features[valid_index])\n",
    "    valids.append(time.time_ns() - start)\n",
    "\n",
    "    # evaluate model\n",
    "    accs.append(accuracy_score(y_train[valid_index], y_pred))\n",
    "    f1s.append(f1_score(y_train[valid_index], y_pred, average='macro'))\n",
    "    \n",
    "# them vao list    \n",
    "train_times.append(mean(trains))\n",
    "valid_times.append(mean(valids))\n",
    "accuracy_scores.append(mean(accs))\n",
    "f1_scores.append(mean(f1s))\n",
    "\n",
    "print(f'Mô hình Logistic Regression')\n",
    "print('\\t - Thời gian train: {:.2f} s'.format(train_times[-1] / 1e9))\n",
    "print('\\t - Thời gian valid: {:.2f} s'.format(valid_times[-1] / 1e9))\n",
    "print('\\t - Accuracy score:  {:.2f} %'.format(accuracy_scores[-1] * 100))\n",
    "print('\\t - F1 score:        {:.2f} %'.format(f1_scores[-1] * 100))"
   ]
  },
  {
   "cell_type": "markdown",
   "id": "90e67ec1",
   "metadata": {},
   "source": [
    "**Kết luận:** Vậy mô hình được lựa chọn là Logistic Regression với tham số như sau: Thuật toán tối ưu SAGA, hiệu chỉnh L2, C = 16"
   ]
  },
  {
   "cell_type": "markdown",
   "id": "5276a689",
   "metadata": {},
   "source": [
    "### Huấn luyện và đánh giá mô hình\n",
    "#### Huấn luyện"
   ]
  },
  {
   "cell_type": "code",
   "execution_count": 80,
   "id": "21bbd241",
   "metadata": {},
   "outputs": [
    {
     "name": "stdout",
     "output_type": "stream",
     "text": [
      "Huấn luyện xong mô hình sau 6.52s\n"
     ]
    }
   ],
   "source": [
    "# Đầu tiên, mô hình đã được chọn là Logistic Regression, SAGA, L2, C=16\n",
    "# Ta tiến hành huấn luyện \n",
    "start = time.time()\n",
    "model = LogisticRegression(penalty='l2', C=16, solver='saga', max_iter=10_000, random_state=rstate)\n",
    "model.fit(train_features, y_train)\n",
    "print('Huấn luyện xong mô hình sau {:.2f}s'.format(time.time() - start))"
   ]
  },
  {
   "cell_type": "markdown",
   "id": "361ffd2a",
   "metadata": {},
   "source": [
    "#### Đánh giá"
   ]
  },
  {
   "cell_type": "code",
   "execution_count": 81,
   "id": "3aab3533",
   "metadata": {},
   "outputs": [],
   "source": [
    "# Đánh giá các mô hình trên tập test\n",
    "\n",
    "# Trích chọn đặc trưng của tập test\n",
    "test_features = feature_extractor.transform(X_test)"
   ]
  },
  {
   "cell_type": "code",
   "execution_count": 82,
   "id": "bccb63e3",
   "metadata": {},
   "outputs": [
    {
     "name": "stdout",
     "output_type": "stream",
     "text": [
      "Accuracy score: 84.85 %\n",
      "F1 score:       80.12 %\n"
     ]
    }
   ],
   "source": [
    "# Đánh giá\n",
    "y_pred = model.predict(test_features)\n",
    "\n",
    "acc = accuracy_score(y_test, y_pred)\n",
    "f1 = f1_score(y_test, y_pred, average='macro')\n",
    "\n",
    "print('Accuracy score: {:.2f} %'.format(acc * 100))\n",
    "print('F1 score:       {:.2f} %'.format(f1 * 100))"
   ]
  },
  {
   "cell_type": "code",
   "execution_count": 85,
   "id": "e4fb0f74",
   "metadata": {},
   "outputs": [
    {
     "name": "stdout",
     "output_type": "stream",
     "text": [
      "                          precision    recall  f1-score   support\n",
      "\n",
      "               am-nhac-1       0.94      0.98      0.96        51\n",
      "     chinh-tri-triet-hoc       0.77      0.59      0.67       126\n",
      "               du-lich-1       0.75      0.52      0.61        29\n",
      "         khoa-hoc-co-ban       0.78      0.55      0.65        65\n",
      "       khoa-hoc-ky-thuat       0.90      0.91      0.91       112\n",
      "khoa-hoc-tu-nhien-xa-hoi       0.65      0.80      0.72       235\n",
      "          lich-su-dia-ly       0.75      0.82      0.78       289\n",
      "      my-thuat-kien-truc       0.97      0.94      0.96       105\n",
      "       nghiep-vu-bao-chi       1.00      0.64      0.78        14\n",
      "         nong-lam-nghiep       1.00      0.89      0.94       112\n",
      "             phap-luat-1       0.97      0.98      0.98       184\n",
      "           sach-hoc-nghe       0.75      0.33      0.46         9\n",
      "           sach-ton-giao       0.87      0.91      0.89       251\n",
      "                the-thao       0.96      0.79      0.87       101\n",
      "      van-hoa-nghe-thuat       0.75      0.63      0.68        43\n",
      "                   y-hoc       0.94      0.97      0.96       274\n",
      "\n",
      "                accuracy                           0.85      2000\n",
      "               macro avg       0.86      0.77      0.80      2000\n",
      "            weighted avg       0.85      0.85      0.85      2000\n",
      "\n"
     ]
    }
   ],
   "source": [
    "from sklearn.metrics import classification_report, confusion_matrix\n",
    "\n",
    "# report\n",
    "print(classification_report(y_test, y_pred))"
   ]
  },
  {
   "cell_type": "code",
   "execution_count": 90,
   "id": "8db5d087",
   "metadata": {},
   "outputs": [
    {
     "data": {
      "image/png": "[encoded data removed]",
      "text/plain": [
       "<Figure size 720x720 with 2 Axes>"
      ]
     },
     "metadata": {
      "needs_background": "light"
     },
     "output_type": "display_data"
    }
   ],
   "source": [
    "# confuse matrix\n",
    "import seaborn as sns\n",
    "conf_matrix = confusion_matrix(y_test, y_pred, labels=labels)\n",
    "plt.figure(figsize=(10, 10))\n",
    "sns.heatmap(conf_matrix, annot=True, fmt='g', cmap='YlGn' , xticklabels=labels, yticklabels=labels)\n",
    "plt.savefig('./images/conf_matrix.png', facecolor='whitesmoke')"
   ]
  },
  {
   "cell_type": "markdown",
   "id": "ada65a89",
   "metadata": {},
   "source": [
    "#### Kết luận\n",
    "Lưu mô hình và kết thúc"
   ]
  },
  {
   "cell_type": "code",
   "execution_count": 83,
   "id": "9ef9ae6c",
   "metadata": {},
   "outputs": [
    {
     "name": "stdout",
     "output_type": "stream",
     "text": [
      "Lưu mô hình thành công vào địa chỉ ./saved_model/best_model.sav\n"
     ]
    }
   ],
   "source": [
    "# Lưu mô hình\n",
    "import pickle\n",
    "import os\n",
    "\n",
    "save_dir = './saved_model'\n",
    "if not os.path.exists(save_dir):\n",
    "    os.mkdir(save_dir)\n",
    "    \n",
    "path = save_dir + '/best_model.sav'\n",
    "pickle.dump(model, open(path, 'wb'))\n",
    "print('Lưu mô hình thành công vào địa chỉ {}'.format(path))"
   ]
  },
  {
   "cell_type": "code",
   "execution_count": null,
   "id": "e60a762d",
   "metadata": {},
   "outputs": [],
   "source": []
  }
 ],
 "metadata": {
  "kernelspec": {
   "display_name": "Python 3 (ipykernel)",
   "language": "python",
   "name": "python3"
  },
  "language_info": {
   "codemirror_mode": {
    "name": "ipython",
    "version": 3
   },
   "file_extension": ".py",
   "mimetype": "text/x-python",
   "name": "python",
   "nbconvert_exporter": "python",
   "pygments_lexer": "ipython3",
   "version": "3.9.12"
  }
 },
 "nbformat": 4,
 "nbformat_minor": 5
}
